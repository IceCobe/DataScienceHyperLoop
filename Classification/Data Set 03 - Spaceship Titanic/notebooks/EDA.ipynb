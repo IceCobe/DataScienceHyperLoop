{
 "cells": [
  {
   "cell_type": "code",
   "execution_count": 234,
   "metadata": {},
   "outputs": [],
   "source": [
    "import sys\n",
    "sys.path.append('../../../kaggleLibrary')\n",
    "\n",
    "from judeKaggleLibrary import load_data, create_csv"
   ]
  },
  {
   "cell_type": "code",
   "execution_count": 235,
   "metadata": {},
   "outputs": [],
   "source": [
    "train_df, test_df = load_data(\"spaceship-titanic\")"
   ]
  },
  {
   "cell_type": "code",
   "execution_count": 236,
   "metadata": {},
   "outputs": [
    {
     "name": "stdout",
     "output_type": "stream",
     "text": [
      "+-----------+----------+---------+------+-----------+----+-----+-----------+---------+------------+------+------+-----------------+\n",
      "|PassengerId|HomePlanet|CryoSleep| Cabin|Destination| Age|  VIP|RoomService|FoodCourt|ShoppingMall|   Spa|VRDeck|             Name|\n",
      "+-----------+----------+---------+------+-----------+----+-----+-----------+---------+------------+------+------+-----------------+\n",
      "|    0013_01|     Earth|     true| G/3/S|TRAPPIST-1e|27.0|false|        0.0|      0.0|         0.0|   0.0|   0.0|  Nelly Carsoning|\n",
      "|    0018_01|     Earth|    false| F/4/S|TRAPPIST-1e|19.0|false|        0.0|      9.0|         0.0|2823.0|   0.0|   Lerome Peckers|\n",
      "|    0019_01|    Europa|     true| C/0/S|55 Cancri e|31.0|false|        0.0|      0.0|         0.0|   0.0|   0.0|  Sabih Unhearfus|\n",
      "|    0021_01|    Europa|    false| C/1/S|TRAPPIST-1e|38.0|false|        0.0|   6652.0|         0.0| 181.0| 585.0| Meratz Caltilter|\n",
      "|    0023_01|     Earth|    false| F/5/S|TRAPPIST-1e|20.0|false|       10.0|      0.0|       635.0|   0.0|   0.0|  Brence Harperez|\n",
      "|    0027_01|     Earth|    false| F/7/P|TRAPPIST-1e|31.0|false|        0.0|   1615.0|       263.0| 113.0|  60.0|     Karlen Ricks|\n",
      "|    0029_01|    Europa|     true| B/2/P|55 Cancri e|21.0|false|        0.0|     NULL|         0.0|   0.0|   0.0|  Aldah Ainserfle|\n",
      "|    0032_01|    Europa|     true| D/0/S|TRAPPIST-1e|20.0|false|        0.0|      0.0|         0.0|   0.0|   0.0|   Acrabi Pringry|\n",
      "|    0032_02|    Europa|     true| D/0/S|55 Cancri e|23.0|false|        0.0|      0.0|         0.0|   0.0|   0.0|    Dhena Pringry|\n",
      "|    0033_01|     Earth|    false| F/7/S|55 Cancri e|24.0|false|        0.0|    639.0|         0.0|   0.0|   0.0|Eliana Delazarson|\n",
      "|    0037_01|     Earth|    false| F/9/S|TRAPPIST-1e|19.0|false|      339.0|      3.0|       136.0| 237.0|   0.0|    Vivia Rickson|\n",
      "|    0040_01|    Europa|    false| D/2/P|TRAPPIST-1e|45.0|false|      932.0|     74.0|        NULL|   7.0|1010.0| Antino Pinoffent|\n",
      "|    0040_02|    Europa|    false| D/2/P|TRAPPIST-1e|44.0|false|        0.0|   1561.0|         0.0|  14.0| 224.0|  Jihda Pinoffent|\n",
      "|    0042_01|      Mars|     true| E/0/P|TRAPPIST-1e|46.0|false|        0.0|      0.0|         0.0|   0.0|   0.0|      Hamus Frité|\n",
      "|    0046_01|     Earth|    false| G/4/P|TRAPPIST-1e|21.0|false|        0.0|      0.0|         0.0|1687.0|  92.0|    Neilda Powery|\n",
      "|    0046_02|     Earth|    false|F/11/P|TRAPPIST-1e|27.0|false|        0.0|      0.0|         0.0| 903.0|  NULL|     Glene Powery|\n",
      "|    0046_03|     Earth|    false|F/11/P|TRAPPIST-1e|20.0|false|        2.0|     12.0|       253.0| 457.0| 690.0|    Joanny Powery|\n",
      "|    0047_01|    Europa|     true| B/0/S|TRAPPIST-1e|44.0|false|        0.0|      0.0|         0.0|   0.0|   0.0| Winonon Prucerod|\n",
      "|    0047_02|    Europa|    false|  NULL|TRAPPIST-1e|29.0|false|        0.0|   7708.0|       243.0| 569.0| 343.0|   Muons Prucerod|\n",
      "|    0047_03|    Europa|    false| B/0/S|TRAPPIST-1e|40.0|false|       26.0|   1925.0|         8.0|3144.0|  63.0|             NULL|\n",
      "+-----------+----------+---------+------+-----------+----+-----+-----------+---------+------------+------+------+-----------------+\n",
      "only showing top 20 rows\n",
      "\n"
     ]
    }
   ],
   "source": [
    "test_df.show()"
   ]
  },
  {
   "cell_type": "code",
   "execution_count": 237,
   "metadata": {},
   "outputs": [
    {
     "name": "stdout",
     "output_type": "stream",
     "text": [
      "+-----------+----------+---------+-----+-------------+----+-----+-----------+---------+------------+------+------+------------------+-----------+\n",
      "|PassengerId|HomePlanet|CryoSleep|Cabin|  Destination| Age|  VIP|RoomService|FoodCourt|ShoppingMall|   Spa|VRDeck|              Name|Transported|\n",
      "+-----------+----------+---------+-----+-------------+----+-----+-----------+---------+------------+------+------+------------------+-----------+\n",
      "|    0001_01|    Europa|    false|B/0/P|  TRAPPIST-1e|39.0|false|        0.0|      0.0|         0.0|   0.0|   0.0|   Maham Ofracculy|      false|\n",
      "|    0002_01|     Earth|    false|F/0/S|  TRAPPIST-1e|24.0|false|      109.0|      9.0|        25.0| 549.0|  44.0|      Juanna Vines|       true|\n",
      "|    0003_01|    Europa|    false|A/0/S|  TRAPPIST-1e|58.0| true|       43.0|   3576.0|         0.0|6715.0|  49.0|     Altark Susent|      false|\n",
      "|    0003_02|    Europa|    false|A/0/S|  TRAPPIST-1e|33.0|false|        0.0|   1283.0|       371.0|3329.0| 193.0|      Solam Susent|      false|\n",
      "|    0004_01|     Earth|    false|F/1/S|  TRAPPIST-1e|16.0|false|      303.0|     70.0|       151.0| 565.0|   2.0| Willy Santantines|       true|\n",
      "|    0005_01|     Earth|    false|F/0/P|PSO J318.5-22|44.0|false|        0.0|    483.0|         0.0| 291.0|   0.0| Sandie Hinetthews|       true|\n",
      "|    0006_01|     Earth|    false|F/2/S|  TRAPPIST-1e|26.0|false|       42.0|   1539.0|         3.0|   0.0|   0.0|Billex Jacostaffey|       true|\n",
      "|    0006_02|     Earth|     true|G/0/S|  TRAPPIST-1e|28.0|false|        0.0|      0.0|         0.0|   0.0|  NULL|Candra Jacostaffey|       true|\n",
      "|    0007_01|     Earth|    false|F/3/S|  TRAPPIST-1e|35.0|false|        0.0|    785.0|        17.0| 216.0|   0.0|     Andona Beston|       true|\n",
      "|    0008_01|    Europa|     true|B/1/P|  55 Cancri e|14.0|false|        0.0|      0.0|         0.0|   0.0|   0.0|    Erraiam Flatic|       true|\n",
      "|    0008_02|    Europa|     true|B/1/P|  TRAPPIST-1e|34.0|false|        0.0|      0.0|        NULL|   0.0|   0.0|    Altardr Flatic|       true|\n",
      "|    0008_03|    Europa|    false|B/1/P|  55 Cancri e|45.0|false|       39.0|   7295.0|       589.0| 110.0| 124.0|     Wezena Flatic|       true|\n",
      "|    0009_01|      Mars|    false|F/1/P|  TRAPPIST-1e|32.0|false|       73.0|      0.0|      1123.0|   0.0| 113.0|      Berers Barne|       true|\n",
      "|    0010_01|     Earth|    false|G/1/S|  TRAPPIST-1e|48.0|false|      719.0|      1.0|        65.0|   0.0|  24.0|    Reney Baketton|      false|\n",
      "|    0011_01|     Earth|    false|F/2/P|  TRAPPIST-1e|28.0|false|        8.0|    974.0|        12.0|   2.0|   7.0|   Elle Bertsontry|       true|\n",
      "|    0012_01|     Earth|    false| NULL|  TRAPPIST-1e|31.0|false|       32.0|      0.0|       876.0|   0.0|   0.0|     Justie Pooles|      false|\n",
      "|    0014_01|      Mars|    false|F/3/P|  55 Cancri e|27.0|false|     1286.0|    122.0|        NULL|   0.0|   0.0|       Flats Eccle|      false|\n",
      "|    0015_01|     Earth|    false|F/4/P|  55 Cancri e|24.0|false|        0.0|      1.0|         0.0|   0.0| 637.0|   Carry Hughriend|      false|\n",
      "|    0016_01|      Mars|     true|F/5/P|  TRAPPIST-1e|45.0|false|        0.0|      0.0|         0.0|   0.0|   0.0|        Alus Upead|       true|\n",
      "|    0017_01|     Earth|    false|G/0/P|  TRAPPIST-1e| 0.0|false|        0.0|      0.0|         0.0|   0.0|   0.0|     Lyde Brighttt|       true|\n",
      "+-----------+----------+---------+-----+-------------+----+-----+-----------+---------+------------+------+------+------------------+-----------+\n",
      "only showing top 20 rows\n",
      "\n",
      "+-------+-----------+----------+-----+-----------+------------------+-----------------+------------------+------------------+------------------+------------------+----------------+\n",
      "|summary|PassengerId|HomePlanet|Cabin|Destination|               Age|      RoomService|         FoodCourt|      ShoppingMall|               Spa|            VRDeck|            Name|\n",
      "+-------+-----------+----------+-----+-----------+------------------+-----------------+------------------+------------------+------------------+------------------+----------------+\n",
      "|  count|       8693|      8492| 8494|       8511|              8514|             8512|              8510|              8485|              8510|              8505|            8493|\n",
      "|   mean|       NULL|      NULL| NULL|       NULL| 28.82793046746535| 224.687617481203|458.07720329024676|173.72916912197996| 311.1387779083431| 304.8547912992357|            NULL|\n",
      "| stddev|       NULL|      NULL| NULL|       NULL|14.489021423908754|666.7176629280646|1611.4892403550716| 604.6964584708244|1136.7055348344063|1145.7171888056605|            NULL|\n",
      "|    min|    0001_01|     Earth|A/0/P|55 Cancri e|               0.0|              0.0|               0.0|               0.0|               0.0|               0.0|      Aard Curle|\n",
      "|    max|    9280_02|      Mars|T/3/P|TRAPPIST-1e|              79.0|          14327.0|           29813.0|           23492.0|           22408.0|           24133.0|Zubeneb Pasharne|\n",
      "+-------+-----------+----------+-----+-----------+------------------+-----------------+------------------+------------------+------------------+------------------+----------------+\n",
      "\n",
      "Number of unique values in PassengerId: 8693\n",
      "Number of unique values in HomePlanet: 3\n",
      "Number of unique values in CryoSleep: 2\n",
      "Number of unique values in Cabin: 6560\n",
      "Number of unique values in Destination: 3\n",
      "Number of unique values in Age: 80\n",
      "Number of unique values in VIP: 2\n",
      "Number of unique values in RoomService: 1273\n",
      "Number of unique values in FoodCourt: 1507\n",
      "Number of unique values in ShoppingMall: 1115\n",
      "Number of unique values in Spa: 1327\n",
      "Number of unique values in VRDeck: 1306\n",
      "Number of unique values in Name: 8473\n",
      "Number of unique values in Transported: 2\n"
     ]
    }
   ],
   "source": [
    "from pyspark.sql import SparkSession\n",
    "from pyspark.sql.functions import countDistinct\n",
    "\n",
    "train_df.show()\n",
    "\n",
    "train_df.describe().show()\n",
    "\n",
    "# Count unique values for each column\n",
    "for column in train_df.columns:\n",
    "    unique_count = train_df.agg(countDistinct(column).alias(column)).collect()[0][column]\n",
    "    print(f\"Number of unique values in {column}: {unique_count}\")"
   ]
  },
  {
   "cell_type": "markdown",
   "metadata": {},
   "source": [
    "Dropping Useless Features"
   ]
  },
  {
   "cell_type": "code",
   "execution_count": 238,
   "metadata": {},
   "outputs": [],
   "source": [
    "train_df = train_df.drop(*[\"Name\"])"
   ]
  },
  {
   "cell_type": "markdown",
   "metadata": {},
   "source": [
    "Eliminating all null values as they seem to be a small proportion (less than 4%)"
   ]
  },
  {
   "cell_type": "code",
   "execution_count": 239,
   "metadata": {},
   "outputs": [],
   "source": [
    "train_df = train_df.na.drop()"
   ]
  },
  {
   "cell_type": "code",
   "execution_count": 240,
   "metadata": {},
   "outputs": [
    {
     "name": "stdout",
     "output_type": "stream",
     "text": [
      "+-----------+----------+---------+-----+-------------+----+-----+-----------+---------+------------+------+------+-----------+\n",
      "|PassengerId|HomePlanet|CryoSleep|Cabin|  Destination| Age|  VIP|RoomService|FoodCourt|ShoppingMall|   Spa|VRDeck|Transported|\n",
      "+-----------+----------+---------+-----+-------------+----+-----+-----------+---------+------------+------+------+-----------+\n",
      "|    0001_01|    Europa|    false|B/0/P|  TRAPPIST-1e|39.0|false|        0.0|      0.0|         0.0|   0.0|   0.0|      false|\n",
      "|    0002_01|     Earth|    false|F/0/S|  TRAPPIST-1e|24.0|false|      109.0|      9.0|        25.0| 549.0|  44.0|       true|\n",
      "|    0003_01|    Europa|    false|A/0/S|  TRAPPIST-1e|58.0| true|       43.0|   3576.0|         0.0|6715.0|  49.0|      false|\n",
      "|    0003_02|    Europa|    false|A/0/S|  TRAPPIST-1e|33.0|false|        0.0|   1283.0|       371.0|3329.0| 193.0|      false|\n",
      "|    0004_01|     Earth|    false|F/1/S|  TRAPPIST-1e|16.0|false|      303.0|     70.0|       151.0| 565.0|   2.0|       true|\n",
      "|    0005_01|     Earth|    false|F/0/P|PSO J318.5-22|44.0|false|        0.0|    483.0|         0.0| 291.0|   0.0|       true|\n",
      "|    0006_01|     Earth|    false|F/2/S|  TRAPPIST-1e|26.0|false|       42.0|   1539.0|         3.0|   0.0|   0.0|       true|\n",
      "|    0007_01|     Earth|    false|F/3/S|  TRAPPIST-1e|35.0|false|        0.0|    785.0|        17.0| 216.0|   0.0|       true|\n",
      "|    0008_01|    Europa|     true|B/1/P|  55 Cancri e|14.0|false|        0.0|      0.0|         0.0|   0.0|   0.0|       true|\n",
      "|    0008_03|    Europa|    false|B/1/P|  55 Cancri e|45.0|false|       39.0|   7295.0|       589.0| 110.0| 124.0|       true|\n",
      "|    0009_01|      Mars|    false|F/1/P|  TRAPPIST-1e|32.0|false|       73.0|      0.0|      1123.0|   0.0| 113.0|       true|\n",
      "|    0010_01|     Earth|    false|G/1/S|  TRAPPIST-1e|48.0|false|      719.0|      1.0|        65.0|   0.0|  24.0|      false|\n",
      "|    0011_01|     Earth|    false|F/2/P|  TRAPPIST-1e|28.0|false|        8.0|    974.0|        12.0|   2.0|   7.0|       true|\n",
      "|    0015_01|     Earth|    false|F/4/P|  55 Cancri e|24.0|false|        0.0|      1.0|         0.0|   0.0| 637.0|      false|\n",
      "|    0016_01|      Mars|     true|F/5/P|  TRAPPIST-1e|45.0|false|        0.0|      0.0|         0.0|   0.0|   0.0|       true|\n",
      "|    0017_01|     Earth|    false|G/0/P|  TRAPPIST-1e| 0.0|false|        0.0|      0.0|         0.0|   0.0|   0.0|       true|\n",
      "|    0017_02|     Earth|    false|F/6/P|  55 Cancri e|14.0|false|      412.0|      0.0|         1.0|   0.0| 679.0|      false|\n",
      "|    0020_01|     Earth|     true|E/0/S|  TRAPPIST-1e| 1.0|false|        0.0|      0.0|         0.0|   0.0|   0.0|      false|\n",
      "|    0020_02|     Earth|     true|E/0/S|  55 Cancri e|49.0|false|        0.0|      0.0|         0.0|   0.0|   0.0|      false|\n",
      "|    0020_04|     Earth|    false|E/0/S|  TRAPPIST-1e|10.0|false|        0.0|      0.0|         0.0|   0.0|   0.0|       true|\n",
      "+-----------+----------+---------+-----+-------------+----+-----+-----------+---------+------------+------+------+-----------+\n",
      "only showing top 20 rows\n",
      "\n",
      "+-------+-----------+----------+-----+-----------+-----------------+------------------+------------------+------------------+------------------+-----------------+\n",
      "|summary|PassengerId|HomePlanet|Cabin|Destination|              Age|       RoomService|         FoodCourt|      ShoppingMall|               Spa|           VRDeck|\n",
      "+-------+-----------+----------+-----+-----------+-----------------+------------------+------------------+------------------+------------------+-----------------+\n",
      "|  count|       6764|      6764| 6764|       6764|             6764|              6764|              6764|              6764|              6764|             6764|\n",
      "|   mean|       NULL|      NULL| NULL|       NULL|28.89739798935541|224.41558249556476|479.73625073920755|180.49571259609698|  313.856298048492|304.5659373151981|\n",
      "| stddev|       NULL|      NULL| NULL|       NULL|14.52956315793236| 648.0563605113159|1676.9221376983799|  638.032157257348|1138.9894709705486|1126.895654703258|\n",
      "|    min|    0001_01|     Earth|A/0/P|55 Cancri e|              0.0|               0.0|               0.0|               0.0|               0.0|              0.0|\n",
      "|    max|    9280_02|      Mars|T/3/P|TRAPPIST-1e|             79.0|            9920.0|           29813.0|           23492.0|           22408.0|          20336.0|\n",
      "+-------+-----------+----------+-----+-----------+-----------------+------------------+------------------+------------------+------------------+-----------------+\n",
      "\n",
      "Number of unique values in PassengerId: 6764\n",
      "Number of unique values in HomePlanet: 3\n",
      "Number of unique values in CryoSleep: 2\n",
      "Number of unique values in Cabin: 5413\n",
      "Number of unique values in Destination: 3\n",
      "Number of unique values in Age: 80\n",
      "Number of unique values in VIP: 2\n",
      "Number of unique values in RoomService: 1112\n",
      "Number of unique values in FoodCourt: 1318\n",
      "Number of unique values in ShoppingMall: 1000\n",
      "Number of unique values in Spa: 1162\n",
      "Number of unique values in VRDeck: 1125\n",
      "Number of unique values in Transported: 2\n"
     ]
    }
   ],
   "source": [
    "from pyspark.sql import SparkSession\n",
    "from pyspark.sql.functions import countDistinct\n",
    "\n",
    "train_df.show()\n",
    "\n",
    "train_df.describe().show()\n",
    "\n",
    "# Count unique values for each column\n",
    "for column in train_df.columns:\n",
    "    unique_count = train_df.agg(countDistinct(column).alias(column)).collect()[0][column]\n",
    "    print(f\"Number of unique values in {column}: {unique_count}\")"
   ]
  },
  {
   "cell_type": "markdown",
   "metadata": {},
   "source": [
    "Splitting up Cabin into distinct categories"
   ]
  },
  {
   "cell_type": "code",
   "execution_count": 241,
   "metadata": {},
   "outputs": [],
   "source": [
    "from pyspark.sql.functions import udf, col\n",
    "from pyspark.sql.types import ArrayType, StringType\n",
    "from pyspark.sql.types import IntegerType\n",
    "from pyspark.ml import Transformer\n",
    "from pyspark.ml.param.shared import HasInputCol, HasOutputCol\n",
    "from pyspark.sql.functions import split\n",
    "\n",
    "class SplitFeature(Transformer, HasInputCol, HasOutputCol):\n",
    "    def __init__(self, inputCol=None, outputCol=None, delimiter=\"/\"):\n",
    "        super(SplitFeature, self).__init__()\n",
    "        self._setDefault(inputCol=inputCol, outputCol=outputCol)\n",
    "        self.delimiter = delimiter\n",
    "\n",
    "    def _transform(self, dataset):\n",
    "        splits = split(col(self.getInputCol()), self.delimiter)\n",
    "        return dataset \\\n",
    "            .withColumn(self.getOutputCol() + '_Deck', splits.getItem(0)) \\\n",
    "            .withColumn(self.getOutputCol() + '_Num', splits.getItem(1)) \\\n",
    "            .withColumn(self.getOutputCol() + '_Side', splits.getItem(2)) \\\n",
    "            .drop(self.getInputCol())\n"
   ]
  },
  {
   "cell_type": "code",
   "execution_count": 242,
   "metadata": {},
   "outputs": [],
   "source": [
    "# from pyspark.ml import Pipeline\n",
    "\n",
    "# splitFeature = SplitFeature(inputCol=\"Cabin\", outputCol=\"Cabin\", delimiter=\"/\")\n",
    "\n",
    "# pipeline = Pipeline(stages=[splitFeature])\n",
    "# train_df = pipeline.fit(train_df).transform(train_df)\n",
    "# train_df.show()"
   ]
  },
  {
   "cell_type": "markdown",
   "metadata": {},
   "source": [
    "Casting Target Variable into Int"
   ]
  },
  {
   "cell_type": "code",
   "execution_count": 243,
   "metadata": {},
   "outputs": [],
   "source": [
    "from pyspark.sql.functions import col\n",
    "\n",
    "train_df = train_df.withColumn(\"Transported\", col(\"Transported\").cast(\"integer\"))"
   ]
  },
  {
   "cell_type": "markdown",
   "metadata": {},
   "source": [
    "Creating the model"
   ]
  },
  {
   "cell_type": "code",
   "execution_count": 244,
   "metadata": {},
   "outputs": [],
   "source": [
    "from pyspark.sql import SparkSession\n",
    "from pyspark.ml.feature import StringIndexer, OneHotEncoder, VectorAssembler\n",
    "from pyspark.ml.classification import RandomForestClassifier\n",
    "from pyspark.ml.evaluation import BinaryClassificationEvaluator\n",
    "from pyspark.ml import Pipeline\n",
    "\n",
    "\n",
    "# Feature Types\n",
    "categorical_features = ['HomePlanet', 'Destination', 'Cabin']\n",
    "numerical_features = ['Age', 'RoomService', 'FoodCourt', 'ShoppingMall', 'Spa', 'VRDeck']\n",
    "boolean_features = ['CryoSleep', 'VIP']\n",
    "\n",
    "# Defining Assembler\n",
    "# splitFeature = SplitFeature(inputCol=\"Cabin\", outputCol=\"Cabin\", delimiter=\"/\")\n",
    "\n",
    "# Assembler Steps\n",
    "indexers = [StringIndexer(inputCol=column, outputCol=column + \"_index\", handleInvalid=\"keep\") for column in categorical_features]\n",
    "encoders = [OneHotEncoder(inputCols=[column + \"_index\"], outputCols=[column + \"_vec\"]) for column in categorical_features]\n",
    "\n",
    "assembler = VectorAssembler(\n",
    "    inputCols=[col + \"_vec\" for col in categorical_features] + numerical_features + boolean_features,\n",
    "    outputCol=\"features\",\n",
    "    handleInvalid=\"keep\")\n",
    "\n",
    "# Initialize the logistic regression model with the correct label column\n",
    "rf = RandomForestClassifier(featuresCol=\"features\", labelCol=\"Transported\") \n",
    "\n",
    "# Combine all stages into a pipeline\n",
    "pipeline = Pipeline(stages=indexers + encoders + [assembler, rf])\n",
    "\n",
    "# Fit the pipeline on the training data\n",
    "model = pipeline.fit(train_df)"
   ]
  },
  {
   "cell_type": "markdown",
   "metadata": {},
   "source": [
    "Make Predictions"
   ]
  },
  {
   "cell_type": "code",
   "execution_count": 245,
   "metadata": {},
   "outputs": [
    {
     "name": "stdout",
     "output_type": "stream",
     "text": [
      "+-----------+-----------+\n",
      "|PassengerId|Transported|\n",
      "+-----------+-----------+\n",
      "|    0013_01|        1.0|\n",
      "|    0018_01|        0.0|\n",
      "|    0019_01|        1.0|\n",
      "|    0021_01|        0.0|\n",
      "|    0023_01|        0.0|\n",
      "|    0027_01|        0.0|\n",
      "|    0029_01|        1.0|\n",
      "|    0032_01|        1.0|\n",
      "|    0032_02|        1.0|\n",
      "|    0033_01|        0.0|\n",
      "|    0037_01|        0.0|\n",
      "|    0040_01|        0.0|\n",
      "|    0040_02|        0.0|\n",
      "|    0042_01|        1.0|\n",
      "|    0046_01|        0.0|\n",
      "|    0046_02|        0.0|\n",
      "|    0046_03|        0.0|\n",
      "|    0047_01|        1.0|\n",
      "|    0047_02|        0.0|\n",
      "|    0047_03|        0.0|\n",
      "+-----------+-----------+\n",
      "only showing top 20 rows\n",
      "\n"
     ]
    }
   ],
   "source": [
    "# test_df = test_df.na.drop()\n",
    "\n",
    "# Make predictions on the test data\n",
    "predictions = model.transform(test_df)\n",
    "\n",
    "predictions = predictions.withColumnRenamed(\"prediction\", \"Transported\")\n",
    "\n",
    "# Show some prediction results\n",
    "predictions.select(\"PassengerId\", \"Transported\").show()"
   ]
  },
  {
   "cell_type": "markdown",
   "metadata": {},
   "source": [
    "Create CSV"
   ]
  },
  {
   "cell_type": "code",
   "execution_count": 246,
   "metadata": {},
   "outputs": [],
   "source": [
    "from pyspark.sql.functions import when\n",
    "\n",
    "# Assuming 'Transported' is currently a numeric column where 1 represents 'true' and 0 represents 'false'\n",
    "predictions = predictions.withColumn(\"Transported\", when(predictions[\"Transported\"] == 1, True).otherwise(False))"
   ]
  },
  {
   "cell_type": "code",
   "execution_count": 247,
   "metadata": {},
   "outputs": [],
   "source": [
    "create_csv(\"spaceship-titanic\", predictions, cols=[\"PassengerId\", \"Transported\"])"
   ]
  }
 ],
 "metadata": {
  "kernelspec": {
   "display_name": "Kaggle",
   "language": "python",
   "name": "python3"
  },
  "language_info": {
   "codemirror_mode": {
    "name": "ipython",
    "version": 3
   },
   "file_extension": ".py",
   "mimetype": "text/x-python",
   "name": "python",
   "nbconvert_exporter": "python",
   "pygments_lexer": "ipython3",
   "version": "3.12.0"
  }
 },
 "nbformat": 4,
 "nbformat_minor": 2
}
