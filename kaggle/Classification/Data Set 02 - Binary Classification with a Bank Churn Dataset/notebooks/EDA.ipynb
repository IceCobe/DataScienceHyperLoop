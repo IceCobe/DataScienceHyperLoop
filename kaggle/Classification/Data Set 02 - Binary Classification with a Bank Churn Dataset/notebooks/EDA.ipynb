{
 "cells": [
  {
   "cell_type": "code",
   "execution_count": 42,
   "metadata": {},
   "outputs": [],
   "source": [
    "import sys\n",
    "sys.path.append('../../../kaggleLibrary')\n",
    "\n",
    "from judeKaggleLibrary import load_data, create_csv"
   ]
  },
  {
   "cell_type": "code",
   "execution_count": 43,
   "metadata": {},
   "outputs": [],
   "source": [
    "train_df, test_df = load_data(\"playground-series-s4e1\")"
   ]
  },
  {
   "cell_type": "code",
   "execution_count": 44,
   "metadata": {},
   "outputs": [
    {
     "name": "stdout",
     "output_type": "stream",
     "text": [
      "+------+----------+----------+-----------+---------+------+----+------+---------+-------------+---------+--------------+---------------+\n",
      "|    id|CustomerId|   Surname|CreditScore|Geography|Gender| Age|Tenure|  Balance|NumOfProducts|HasCrCard|IsActiveMember|EstimatedSalary|\n",
      "+------+----------+----------+-----------+---------+------+----+------+---------+-------------+---------+--------------+---------------+\n",
      "|165034|  15773898|  Lucchese|        586|   France|Female|23.0|     2|      0.0|            2|      0.0|           1.0|      160976.75|\n",
      "|165035|  15782418|      Nott|        683|   France|Female|46.0|     2|      0.0|            1|      1.0|           0.0|       72549.27|\n",
      "|165036|  15807120|        K?|        656|   France|Female|34.0|     7|      0.0|            2|      1.0|           0.0|      138882.09|\n",
      "|165037|  15808905| O'Donnell|        681|   France|  Male|36.0|     8|      0.0|            1|      1.0|           0.0|      113931.57|\n",
      "|165038|  15607314|   Higgins|        752|  Germany|  Male|38.0|    10|121263.62|            1|      1.0|           0.0|       139431.0|\n",
      "|165039|  15672704|   Pearson|        593|   France|Female|22.0|     9|      0.0|            2|      0.0|           0.0|       51907.72|\n",
      "|165040|  15647838|  Onyemere|        682|    Spain|  Male|45.0|     4|      0.0|            2|      1.0|           1.0|      157878.67|\n",
      "|165041|  15775307|Hargreaves|        539|    Spain|Female|47.0|     8|      0.0|            2|      1.0|           1.0|      126784.29|\n",
      "|165042|  15653937|     Hsueh|        845|   France|Female|47.0|     3|111096.91|            1|      1.0|           0.0|        94978.1|\n",
      "|165043|  15752344|      Teng|        645|    Spain|  Male|30.0|     5|      0.0|            2|      0.0|           1.0|      149195.44|\n",
      "|165044|  15723053|    Ch'eng|        818|  Germany|  Male|33.0|     8|130878.75|            1|      1.0|           1.0|        56897.1|\n",
      "|165045|  15757895|     T'ang|        651|   France|  Male|38.0|     4|      0.0|            2|      1.0|           0.0|      181419.29|\n",
      "|165046|  15664802|     Hsieh|        632|   France|Female|23.0|     8|      0.0|            2|      1.0|           1.0|      163650.87|\n",
      "|165047|  15737354| Chinwendu|        685|  Germany|  Male|38.0|     2|135070.21|            1|      0.0|           1.0|       88820.24|\n",
      "|165048|  15591995|      Ting|        607|  Germany|  Male|42.0|     5|122917.71|            1|      0.0|           0.0|      105898.79|\n",
      "|165049|  15658057|   Maclean|        664|   France|Female|43.0|    10|      0.0|            2|      1.0|           1.0|      131177.22|\n",
      "|165050|  15608845|     Sousa|        613|    Spain|Female|24.0|     3|181627.14|            1|      1.0|           1.0|      131501.72|\n",
      "|165051|  15750141|      Tuan|        538|   France|Female|31.0|     5|      0.0|            1|      1.0|           0.0|      160529.71|\n",
      "|165052|  15672357|   Sochima|        656|    Spain|  Male|29.0|     2|      0.0|            2|      0.0|           0.0|       67840.81|\n",
      "|165053|  15680141|      Yuan|        680|   France|  Male|33.0|     3| 86920.86|            1|      1.0|           0.0|      159830.58|\n",
      "+------+----------+----------+-----------+---------+------+----+------+---------+-------------+---------+--------------+---------------+\n",
      "only showing top 20 rows\n",
      "\n"
     ]
    }
   ],
   "source": [
    "test_df.show()"
   ]
  },
  {
   "cell_type": "code",
   "execution_count": 45,
   "metadata": {},
   "outputs": [
    {
     "name": "stdout",
     "output_type": "stream",
     "text": [
      "+---+----------+--------------+-----------+---------+------+----+------+---------+-------------+---------+--------------+---------------+------+\n",
      "| id|CustomerId|       Surname|CreditScore|Geography|Gender| Age|Tenure|  Balance|NumOfProducts|HasCrCard|IsActiveMember|EstimatedSalary|Exited|\n",
      "+---+----------+--------------+-----------+---------+------+----+------+---------+-------------+---------+--------------+---------------+------+\n",
      "|  0|  15674932|Okwudilichukwu|        668|   France|  Male|33.0|     3|      0.0|            2|      1.0|           0.0|      181449.97|     0|\n",
      "|  1|  15749177| Okwudiliolisa|        627|   France|  Male|33.0|     1|      0.0|            2|      1.0|           1.0|        49503.5|     0|\n",
      "|  2|  15694510|         Hsueh|        678|   France|  Male|40.0|    10|      0.0|            2|      1.0|           0.0|      184866.69|     0|\n",
      "|  3|  15741417|           Kao|        581|   France|  Male|34.0|     2|148882.54|            1|      1.0|           1.0|       84560.88|     0|\n",
      "|  4|  15766172|     Chiemenam|        716|    Spain|  Male|33.0|     5|      0.0|            2|      1.0|           1.0|       15068.83|     0|\n",
      "|  5|  15771669|      Genovese|        588|  Germany|  Male|36.0|     4|131778.58|            1|      1.0|           0.0|      136024.31|     1|\n",
      "|  6|  15692819|        Ch'ang|        593|   France|Female|30.0|     8|144772.69|            1|      1.0|           0.0|       29792.11|     0|\n",
      "|  7|  15669611|   Chukwuebuka|        678|    Spain|  Male|37.0|     1|138476.41|            1|      1.0|           0.0|       106851.6|     0|\n",
      "|  8|  15691707|         Manna|        676|   France|  Male|43.0|     4|      0.0|            2|      1.0|           0.0|      142917.13|     0|\n",
      "|  9|  15591721|      Cattaneo|        583|  Germany|  Male|40.0|     4| 81274.33|            1|      1.0|           1.0|      170843.07|     0|\n",
      "| 10|  15635097|        Fokine|        599|  Germany|Female|27.0|     6|161801.47|            2|      1.0|           0.0|      109184.24|     0|\n",
      "| 11|  15674671|          Chiu|        687|  Germany|  Male|40.0|     3| 90432.92|            1|      1.0|           0.0|        1676.92|     0|\n",
      "| 12|  15717962|         Rossi|        759|    Spain|  Male|71.0|     9|      0.0|            1|      1.0|           1.0|       93081.87|     0|\n",
      "| 13|  15793029|         Ts'ai|        681|   France|  Male|47.0|     5|      0.0|            1|      1.0|           1.0|       72945.68|     0|\n",
      "| 14|  15643294|   Chukwuemeka|        703|   France|Female|33.0|     7|190566.65|            1|      1.0|           1.0|       79997.14|     0|\n",
      "| 15|  15690958|          Tung|        549|   France|Female|25.0|     5|      0.0|            2|      1.0|           0.0|      162260.93|     0|\n",
      "| 16|  15566543|     Macdonald|        602|   France|  Male|36.0|     7|      0.0|            2|      0.0|           1.0|      135082.47|     0|\n",
      "| 17|  15679804|      Esquivel|        636|   France|  Male|36.0|     4|117559.05|            2|      1.0|           0.0|       111573.3|     0|\n",
      "| 18|  15671358|    Hargreaves|        645|  Germany|Female|55.0|     8|120105.43|            1|      1.0|           0.0|      125083.29|     1|\n",
      "| 19|  15650670|         Ts'ui|        559|   France|  Male|61.0|     1|153711.26|            1|      0.0|           1.0|       180890.4|     1|\n",
      "+---+----------+--------------+-----------+---------+------+----+------+---------+-------------+---------+--------------+---------------+------+\n",
      "only showing top 20 rows\n",
      "\n",
      "+-------+---------------+--------------------+-------+----------------+---------+------+-----------------+------------------+------------------+------------------+------------------+-------------------+------------------+-------------------+\n",
      "|summary|             id|          CustomerId|Surname|     CreditScore|Geography|Gender|              Age|            Tenure|           Balance|     NumOfProducts|         HasCrCard|     IsActiveMember|   EstimatedSalary|             Exited|\n",
      "+-------+---------------+--------------------+-------+----------------+---------+------+-----------------+------------------+------------------+------------------+------------------+-------------------+------------------+-------------------+\n",
      "|  count|         165034|              165034| 165034|          165034|   165034|165034|           165034|            165034|            165034|            165034|            165034|             165034|            165034|             165034|\n",
      "|   mean|        82516.5|1.5692005019026382E7|   NULL|656.454373038283|     NULL|  NULL|38.12588787764945| 5.020353381727402|55478.086689349235|1.5544554455445545|0.7539537307463916|0.49777015645260975|112574.82273434362|0.21159882206090866|\n",
      "| stddev|47641.356500069|   71397.81679067112|   NULL|80.1033404871783|     NULL|  NULL|8.867204591410792|2.8061585665860913| 62817.66327783688|0.5471536788441764|0.4307071240449495|0.49999654260421705|50292.865584904175| 0.4084431067117287|\n",
      "|    min|              0|            15565701|  Abazu|             350|   France|Female|             18.0|                 0|               0.0|                 1|               0.0|                0.0|             11.58|                  0|\n",
      "|    max|         165033|            15815690| Zuyeva|             850|    Spain|  Male|             92.0|                10|         250898.09|                 4|               1.0|                1.0|         199992.48|                  1|\n",
      "+-------+---------------+--------------------+-------+----------------+---------+------+-----------------+------------------+------------------+------------------+------------------+-------------------+------------------+-------------------+\n",
      "\n",
      "Number of unique values in id: 165034\n",
      "Number of unique values in CustomerId: 23221\n",
      "Number of unique values in Surname: 2797\n",
      "Number of unique values in CreditScore: 457\n",
      "Number of unique values in Geography: 3\n",
      "Number of unique values in Gender: 2\n",
      "Number of unique values in Age: 71\n",
      "Number of unique values in Tenure: 11\n",
      "Number of unique values in Balance: 30075\n",
      "Number of unique values in NumOfProducts: 4\n",
      "Number of unique values in HasCrCard: 2\n",
      "Number of unique values in IsActiveMember: 2\n",
      "Number of unique values in EstimatedSalary: 55298\n",
      "Number of unique values in Exited: 2\n"
     ]
    }
   ],
   "source": [
    "from pyspark.sql import SparkSession\n",
    "from pyspark.sql.functions import countDistinct\n",
    "\n",
    "train_df.show()\n",
    "\n",
    "train_df.describe().show()\n",
    "\n",
    "# Count unique values for each column\n",
    "for column in train_df.columns:\n",
    "    unique_count = train_df.agg(countDistinct(column).alias(column)).collect()[0][column]\n",
    "    print(f\"Number of unique values in {column}: {unique_count}\")"
   ]
  },
  {
   "cell_type": "markdown",
   "metadata": {},
   "source": [
    "Dropping Useless Features"
   ]
  },
  {
   "cell_type": "code",
   "execution_count": 46,
   "metadata": {},
   "outputs": [],
   "source": [
    "train_df = train_df.drop(*[\"Surname\"])"
   ]
  },
  {
   "cell_type": "markdown",
   "metadata": {},
   "source": [
    "Creating the model"
   ]
  },
  {
   "cell_type": "code",
   "execution_count": 47,
   "metadata": {},
   "outputs": [],
   "source": [
    "from pyspark.sql import SparkSession\n",
    "from pyspark.ml.feature import StringIndexer, OneHotEncoder, VectorAssembler\n",
    "from pyspark.ml.classification import RandomForestClassifier\n",
    "from pyspark.ml.evaluation import BinaryClassificationEvaluator\n",
    "from pyspark.ml import Pipeline\n",
    "\n",
    "# Feature Types\n",
    "categorical_features = ['Geography', 'Gender']\n",
    "numerical_features = ['CreditScore', 'Age', 'Tenure', 'Balance', 'NumOfProducts', 'HasCrCard', 'IsActiveMember', 'EstimatedSalary']\n",
    "\n",
    "# Assembler Steps - Do not fit indexers here\n",
    "indexers = [StringIndexer(inputCol=column, outputCol=column + \"_index\") for column in categorical_features]\n",
    "encoders = [OneHotEncoder(inputCols=[column + \"_index\"], outputCols=[column + \"_vec\"]) for column in categorical_features]\n",
    "assembler = VectorAssembler(inputCols=[col + \"_vec\" for col in categorical_features] + numerical_features, outputCol=\"features\")\n",
    "\n",
    "# Initialize the logistic regression model with the correct label column\n",
    "rf = RandomForestClassifier(featuresCol=\"features\", labelCol=\"Exited\") \n",
    "\n",
    "# Combine all stages into a pipeline\n",
    "pipeline = Pipeline(stages=indexers + encoders + [assembler, rf])\n",
    "\n",
    "# Fit the pipeline on the training data\n",
    "model = pipeline.fit(train_df)"
   ]
  },
  {
   "cell_type": "markdown",
   "metadata": {},
   "source": [
    "Make Predictions"
   ]
  },
  {
   "cell_type": "code",
   "execution_count": 48,
   "metadata": {},
   "outputs": [
    {
     "name": "stdout",
     "output_type": "stream",
     "text": [
      "+------+----------+\n",
      "|    id|prediction|\n",
      "+------+----------+\n",
      "|165034|       0.0|\n",
      "|165035|       1.0|\n",
      "|165036|       0.0|\n",
      "|165037|       0.0|\n",
      "|165038|       0.0|\n",
      "|165039|       0.0|\n",
      "|165040|       0.0|\n",
      "|165041|       0.0|\n",
      "|165042|       1.0|\n",
      "|165043|       0.0|\n",
      "|165044|       0.0|\n",
      "|165045|       0.0|\n",
      "|165046|       0.0|\n",
      "|165047|       0.0|\n",
      "|165048|       0.0|\n",
      "|165049|       0.0|\n",
      "|165050|       0.0|\n",
      "|165051|       0.0|\n",
      "|165052|       0.0|\n",
      "|165053|       0.0|\n",
      "+------+----------+\n",
      "only showing top 20 rows\n",
      "\n"
     ]
    }
   ],
   "source": [
    "# Make predictions on the test data\n",
    "predictions = model.transform(test_df)\n",
    "\n",
    "# Show some prediction results\n",
    "predictions.select(\"id\", \"prediction\").show()"
   ]
  },
  {
   "cell_type": "markdown",
   "metadata": {},
   "source": [
    "Create Submission File"
   ]
  },
  {
   "cell_type": "code",
   "execution_count": 49,
   "metadata": {},
   "outputs": [],
   "source": [
    "create_csv(\"playground-series-s4e1\", predictions)"
   ]
  }
 ],
 "metadata": {
  "kernelspec": {
   "display_name": "Kaggle",
   "language": "python",
   "name": "python3"
  },
  "language_info": {
   "codemirror_mode": {
    "name": "ipython",
    "version": 3
   },
   "file_extension": ".py",
   "mimetype": "text/x-python",
   "name": "python",
   "nbconvert_exporter": "python",
   "pygments_lexer": "ipython3",
   "version": "3.12.0"
  }
 },
 "nbformat": 4,
 "nbformat_minor": 2
}
