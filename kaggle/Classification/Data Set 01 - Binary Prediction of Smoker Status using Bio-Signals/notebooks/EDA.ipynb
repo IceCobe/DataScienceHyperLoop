{
 "cells": [
  {
   "cell_type": "markdown",
   "metadata": {},
   "source": [
    "Data Load"
   ]
  },
  {
   "cell_type": "code",
   "execution_count": 458,
   "metadata": {},
   "outputs": [
    {
     "name": "stdout",
     "output_type": "stream",
     "text": [
      "+---+---+----------+----------+---------+--------------+---------------+-------------+--------------+--------+----------+-------------------+-----------+------------+---+---+----------+-------------+----------------+---+---+---+-------------+-------+\n",
      "| id|age|height(cm)|weight(kg)|waist(cm)|eyesight(left)|eyesight(right)|hearing(left)|hearing(right)|systolic|relaxation|fasting blood sugar|Cholesterol|triglyceride|HDL|LDL|hemoglobin|Urine protein|serum creatinine|AST|ALT|Gtp|dental caries|smoking|\n",
      "+---+---+----------+----------+---------+--------------+---------------+-------------+--------------+--------+----------+-------------------+-----------+------------+---+---+----------+-------------+----------------+---+---+---+-------------+-------+\n",
      "|  0| 55|       165|        60|     81.0|           0.5|            0.6|            1|             1|     135|        87|                 94|        172|         300| 40| 75|      16.5|            1|             1.0| 22| 25| 27|            0|      1|\n",
      "|  1| 70|       165|        65|     89.0|           0.6|            0.7|            2|             2|     146|        83|                147|        194|          55| 57|126|      16.2|            1|             1.1| 27| 23| 37|            1|      0|\n",
      "|  2| 20|       170|        75|     81.0|           0.4|            0.5|            1|             1|     118|        75|                 79|        178|         197| 45| 93|      17.4|            1|             0.8| 27| 31| 53|            0|      1|\n",
      "|  3| 35|       180|        95|    105.0|           1.5|            1.2|            1|             1|     131|        88|                 91|        180|         203| 38|102|      15.9|            1|             1.0| 20| 27| 30|            1|      0|\n",
      "|  4| 30|       165|        60|     80.5|           1.5|            1.0|            1|             1|     121|        76|                 91|        155|          87| 44| 93|      15.4|            1|             0.8| 19| 13| 17|            0|      1|\n",
      "|  5| 50|       170|        55|     51.0|           1.2|            1.2|            1|             1|     146|        95|                101|        199|         343| 31| 99|      15.9|            1|             0.7| 24| 42|119|            1|      1|\n",
      "|  6| 45|       160|        55|     69.0|           1.5|            1.2|            1|             1|     150|        88|                 84|        222|         153| 69|122|      13.0|            1|             0.7| 17| 12| 16|            0|      0|\n",
      "|  7| 55|       155|        60|     84.5|           0.7|            0.9|            1|             1|     137|        91|                100|        282|         165| 51|198|      14.5|            1|             0.7| 16| 15| 16|            0|      0|\n",
      "|  8| 40|       165|        70|     89.0|           0.7|            1.0|            1|             1|     130|        80|                104|        243|         163| 59|150|      15.7|            1|             0.9| 24| 21| 31|            0|      1|\n",
      "|  9| 40|       155|        50|     73.0|           1.5|            1.5|            1|             1|     105|        70|                 64|        183|          27| 55|122|      13.2|            1|             0.7| 22| 16| 14|            0|      0|\n",
      "| 10| 40|       155|        50|     68.0|           0.8|            0.6|            1|             1|     107|        60|                 71|        165|          76| 48|101|      12.9|            3|             0.7| 17| 11|  8|            0|      0|\n",
      "| 11| 50|       160|        45|     64.0|           1.2|            1.5|            1|             1|     105|        73|                 85|        217|          50| 81|126|      13.6|            1|             0.8| 25| 17| 15|            0|      0|\n",
      "| 12| 40|       155|        55|     80.0|           0.8|            0.8|            1|             1|      95|        65|                 84|        163|          94| 89| 56|      12.6|            1|             0.7| 21| 15|  9|            1|      0|\n",
      "| 13| 40|       170|        65|     81.0|           1.2|            1.0|            1|             1|     120|        76|                106|        215|          84| 54|145|      15.9|            1|             0.9| 23| 18| 36|            0|      1|\n",
      "| 14| 50|       175|        90|    103.0|           0.8|            0.5|            1|             1|     113|        72|                 90|        220|         145| 60|131|      16.6|            1|             1.3| 27| 24| 26|            0|      1|\n",
      "| 15| 45|       170|        65|     81.8|           0.7|            0.7|            1|             1|     111|        84|                102|        204|         180| 52|117|      18.0|            1|             0.9| 18| 20| 33|            0|      1|\n",
      "| 16| 40|       160|        65|     78.0|           1.2|            1.0|            1|             1|     130|        81|                102|        222|          51| 71|141|       8.6|            1|             0.8| 16| 12| 11|            0|      0|\n",
      "| 17| 45|       175|        80|     92.0|           0.6|            0.3|            1|             1|     155|        94|                114|        208|         182| 56|115|      14.4|            1|             1.2| 22| 16| 22|            1|      0|\n",
      "| 18| 40|       175|        90|     92.0|           0.5|            1.0|            1|             2|     138|        88|                124|        189|         199| 44|106|      16.4|            1|             1.1| 40| 53| 44|            0|      1|\n",
      "| 19| 60|       165|        60|     81.0|           1.0|            1.2|            1|             1|     131|        82|                104|        201|         213| 48|110|      15.4|            1|             1.3| 22| 26| 53|            0|      1|\n",
      "+---+---+----------+----------+---------+--------------+---------------+-------------+--------------+--------+----------+-------------------+-----------+------------+---+---+----------+-------------+----------------+---+---+---+-------------+-------+\n",
      "only showing top 20 rows\n",
      "\n"
     ]
    }
   ],
   "source": [
    "from pyspark.sql import SparkSession\n",
    "\n",
    "# Initialize a SparkSession\n",
    "spark = SparkSession.builder.appName('KaggleData').getOrCreate()\n",
    "\n",
    "# Read the CSV data into a DataFrame\n",
    "train_df = spark.read.csv('../data/playground-series-s3e24/train.csv', header=True, inferSchema=True)\n",
    "test_df = spark.read.csv('../data/playground-series-s3e24/test.csv', header=True, inferSchema=True)\n",
    "\n",
    "# Show the DataFrame to verify it's loaded\n",
    "train_df.show()"
   ]
  },
  {
   "cell_type": "markdown",
   "metadata": {},
   "source": [
    "EDA"
   ]
  },
  {
   "cell_type": "code",
   "execution_count": 459,
   "metadata": {},
   "outputs": [
    {
     "name": "stdout",
     "output_type": "stream",
     "text": [
      "+-------+-----------------+------------------+-----------------+------------------+-----------------+------------------+------------------+-------------------+-------------------+------------------+-----------------+-------------------+------------------+------------------+------------------+------------------+------------------+-------------------+-------------------+------------------+------------------+------------------+-------------------+-------------------+\n",
      "|summary|               id|               age|       height(cm)|        weight(kg)|        waist(cm)|    eyesight(left)|   eyesight(right)|      hearing(left)|     hearing(right)|          systolic|       relaxation|fasting blood sugar|       Cholesterol|      triglyceride|               HDL|               LDL|        hemoglobin|      Urine protein|   serum creatinine|               AST|               ALT|               Gtp|      dental caries|            smoking|\n",
      "+-------+-----------------+------------------+-----------------+------------------+-----------------+------------------+------------------+-------------------+-------------------+------------------+-----------------+-------------------+------------------+------------------+------------------+------------------+------------------+-------------------+-------------------+------------------+------------------+------------------+-------------------+-------------------+\n",
      "|  count|           159256|            159256|           159256|            159256|           159256|            159256|            159256|             159256|             159256|            159256|           159256|             159256|            159256|            159256|            159256|            159256|            159256|             159256|             159256|            159256|            159256|            159256|             159256|             159256|\n",
      "|   mean|          79627.5| 44.30662581001658|165.2669287185412| 67.14366177726428|83.00198987793262| 1.005798211684247|1.0009889737277617|  1.023973979002361|  1.023421409554428|  122.503648214196|76.87407067865576|  98.35255186617772|195.79616466569547|127.61604586326418|55.852683729341436|114.60768197116592|14.796965263475178| 1.0742326819711658|  0.892764479831265|25.516853368161954|26.550296378158436|36.216004420555585| 0.1979956799115889| 0.4373649972371528|\n",
      "| stddev|45973.39157237224|11.842285846259633|8.818969845196296|12.586198142220134|8.957937261233036|0.4021126115034257|0.3922985819084155|0.15296854010699673|0.15123819211084163|12.729315157676709|8.994641687513191| 15.329740155614257|28.396959082886198| 66.18898913134363|13.964141074947346|28.158931398171006|1.4312130772789935|0.34785565327622336|0.17934595433398473| 9.464882078029078|17.753070138185333|31.204642692784258|0.39849013507159975|0.49606290085428884|\n",
      "|    min|                0|                20|              135|                30|             51.0|               0.1|               0.1|                  1|                  1|                77|               44|                 46|                77|                 8|                 9|                 1|               4.9|                  1|                0.1|                 6|                 1|                 2|                  0|                  0|\n",
      "|    max|           159255|                85|              190|               130|            127.0|               9.9|               9.9|                  2|                  2|               213|              133|                375|               393|               766|               136|              1860|              21.0|                  6|                9.9|               778|              2914|               999|                  1|                  1|\n",
      "+-------+-----------------+------------------+-----------------+------------------+-----------------+------------------+------------------+-------------------+-------------------+------------------+-----------------+-------------------+------------------+------------------+------------------+------------------+------------------+-------------------+-------------------+------------------+------------------+------------------+-------------------+-------------------+\n",
      "\n"
     ]
    }
   ],
   "source": [
    "summary_stats = train_df.describe()\n",
    "summary_stats.show()"
   ]
  },
  {
   "cell_type": "code",
   "execution_count": 460,
   "metadata": {},
   "outputs": [],
   "source": [
    "# Sample a fraction of the DataFrame\n",
    "fraction = 0.01\n",
    "seed = 42  # Seed for reproducibility\n",
    "\n",
    "sampled_df = train_df.sample(withReplacement=False, fraction=fraction, seed=seed)\n",
    "\n",
    "# Now convert the sampled DataFrame to Pandas for visualization\n",
    "sampled_pd_df = sampled_df.toPandas()"
   ]
  },
  {
   "cell_type": "code",
   "execution_count": 461,
   "metadata": {},
   "outputs": [],
   "source": [
    "import seaborn as sns\n",
    "import matplotlib.pyplot as plt\n",
    "from pyspark.sql import SparkSession\n",
    "\n",
    "# Convert the Spark DataFrame to a Pandas DataFrame\n",
    "# df_pandas = train_df.toPandas()\n",
    "\n",
    "# Use Seaborn to create a pair plot\n",
    "# sns.pairplot(sampled_pd_df, hue='smoking')\n",
    "\n",
    "# Show the plot\n",
    "# plt.show()"
   ]
  },
  {
   "cell_type": "markdown",
   "metadata": {},
   "source": [
    "Check for missing values"
   ]
  },
  {
   "cell_type": "code",
   "execution_count": 462,
   "metadata": {},
   "outputs": [
    {
     "name": "stdout",
     "output_type": "stream",
     "text": [
      "Column id has 0.0% missing values\n",
      "Column age has 0.0% missing values\n",
      "Column height(cm) has 0.0% missing values\n",
      "Column weight(kg) has 0.0% missing values\n",
      "Column waist(cm) has 0.0% missing values\n",
      "Column eyesight(left) has 0.0% missing values\n",
      "Column eyesight(right) has 0.0% missing values\n",
      "Column hearing(left) has 0.0% missing values\n",
      "Column hearing(right) has 0.0% missing values\n",
      "Column systolic has 0.0% missing values\n",
      "Column relaxation has 0.0% missing values\n",
      "Column fasting blood sugar has 0.0% missing values\n",
      "Column Cholesterol has 0.0% missing values\n",
      "Column triglyceride has 0.0% missing values\n",
      "Column HDL has 0.0% missing values\n",
      "Column LDL has 0.0% missing values\n",
      "Column hemoglobin has 0.0% missing values\n",
      "Column Urine protein has 0.0% missing values\n",
      "Column serum creatinine has 0.0% missing values\n",
      "Column AST has 0.0% missing values\n",
      "Column ALT has 0.0% missing values\n",
      "Column Gtp has 0.0% missing values\n",
      "Column dental caries has 0.0% missing values\n",
      "Column smoking has 0.0% missing values\n"
     ]
    }
   ],
   "source": [
    "from pyspark.sql.functions import col, count, isnan, when\n",
    "\n",
    "for col in train_df.columns:\n",
    "    missing_count = train_df.filter((train_df[col] == \"\") | train_df[col].isNull() | isnan(train_df[col])).count()\n",
    "    total_count = train_df.count()\n",
    "    print(f\"Column {col} has {(missing_count / total_count) * 100}% missing values\")\n"
   ]
  },
  {
   "cell_type": "markdown",
   "metadata": {},
   "source": [
    "Data Clean"
   ]
  },
  {
   "cell_type": "code",
   "execution_count": 463,
   "metadata": {},
   "outputs": [
    {
     "name": "stdout",
     "output_type": "stream",
     "text": [
      "root\n",
      " |-- id: integer (nullable = true)\n",
      " |-- age: integer (nullable = true)\n",
      " |-- height(cm): integer (nullable = true)\n",
      " |-- weight(kg): integer (nullable = true)\n",
      " |-- waist(cm): double (nullable = true)\n",
      " |-- eyesight(left): double (nullable = true)\n",
      " |-- eyesight(right): double (nullable = true)\n",
      " |-- hearing(left): integer (nullable = true)\n",
      " |-- hearing(right): integer (nullable = true)\n",
      " |-- systolic: integer (nullable = true)\n",
      " |-- relaxation: integer (nullable = true)\n",
      " |-- fasting blood sugar: integer (nullable = true)\n",
      " |-- Cholesterol: integer (nullable = true)\n",
      " |-- triglyceride: integer (nullable = true)\n",
      " |-- HDL: integer (nullable = true)\n",
      " |-- LDL: integer (nullable = true)\n",
      " |-- hemoglobin: double (nullable = true)\n",
      " |-- Urine protein: integer (nullable = true)\n",
      " |-- serum creatinine: double (nullable = true)\n",
      " |-- AST: integer (nullable = true)\n",
      " |-- ALT: integer (nullable = true)\n",
      " |-- Gtp: integer (nullable = true)\n",
      " |-- dental caries: integer (nullable = true)\n",
      " |-- smoking: integer (nullable = true)\n",
      "\n"
     ]
    }
   ],
   "source": [
    "train_df.printSchema()"
   ]
  },
  {
   "cell_type": "code",
   "execution_count": 464,
   "metadata": {},
   "outputs": [
    {
     "name": "stdout",
     "output_type": "stream",
     "text": [
      "Number of unique values': 6\n"
     ]
    }
   ],
   "source": [
    "unique_values_count = train_df.select(\"Urine protein\").distinct().count()\n",
    "\n",
    "print(f\"Number of unique values': {unique_values_count}\")\n"
   ]
  },
  {
   "cell_type": "code",
   "execution_count": 465,
   "metadata": {},
   "outputs": [],
   "source": [
    "from pyspark.ml.feature import StringIndexer, OneHotEncoder, VectorAssembler\n",
    "from pyspark.ml import Pipeline\n",
    "\n",
    "# Define StringIndexer stages\n",
    "indexer1 = StringIndexer(inputCol=\"dental caries\", outputCol=\"dentalCariesIndex\")\n",
    "indexer3 = StringIndexer(inputCol=\"hearing(left)\", outputCol=\"hearingLeftIndex\")\n",
    "indexer4 = StringIndexer(inputCol=\"hearing(right)\", outputCol=\"hearingRightIndex\")\n",
    "\n",
    "# Define OneHotEncoder stages\n",
    "encoder1 = OneHotEncoder(inputCol=\"dentalCariesIndex\", outputCol=\"dentalCariesVec\")\n",
    "encoder3 = OneHotEncoder(inputCol=\"hearingLeftIndex\", outputCol=\"hearingLeftVec\")\n",
    "encoder4 = OneHotEncoder(inputCol=\"hearingRightIndex\", outputCol=\"hearingRightVec\")\n",
    "\n",
    "# Define VectorAssembler stage\n",
    "assembler = VectorAssembler(\n",
    "    inputCols=[\"age\", \"height(cm)\", \"weight(kg)\", \"waist(cm)\", \"eyesight(left)\", \"eyesight(right)\", \n",
    "               \"systolic\", \"relaxation\", \"fasting blood sugar\", \"Cholesterol\", \"triglyceride\", \"HDL\", \"LDL\", \n",
    "               \"hemoglobin\", \"Urine protein\", \"serum creatinine\", \"AST\", \"ALT\", \"Gtp\", \n",
    "               \"dentalCariesVec\", \"hearingLeftVec\", \"hearingRightVec\"], \n",
    "    outputCol=\"features\")\n",
    "\n",
    "# Define the Pipeline\n",
    "pipeline = Pipeline(stages=[indexer1, indexer3, indexer4, encoder1, encoder3, encoder4, assembler])"
   ]
  },
  {
   "cell_type": "markdown",
   "metadata": {},
   "source": [
    "Train Model"
   ]
  },
  {
   "cell_type": "code",
   "execution_count": 466,
   "metadata": {},
   "outputs": [],
   "source": [
    "from pyspark.ml.classification import LogisticRegression\n",
    "\n",
    "# Fit the pipeline to the training data\n",
    "pipeline_model = pipeline.fit(train_df)\n",
    "\n",
    "# Transform the training data\n",
    "train_df_transformed = pipeline_model.transform(train_df)\n",
    "\n",
    "# Train the Logistic Regression model\n",
    "lr = LogisticRegression(featuresCol='features', labelCol='smoking')\n",
    "lr_model = lr.fit(train_df_transformed)"
   ]
  },
  {
   "cell_type": "markdown",
   "metadata": {},
   "source": [
    "Create Predictions"
   ]
  },
  {
   "cell_type": "code",
   "execution_count": 467,
   "metadata": {},
   "outputs": [],
   "source": [
    "# Fit the pipeline to the training data\n",
    "pipeline_model = pipeline.fit(test_df)\n",
    "\n",
    "# Transform the training data\n",
    "test_df_transformed = pipeline_model.transform(test_df)"
   ]
  },
  {
   "cell_type": "code",
   "execution_count": 468,
   "metadata": {},
   "outputs": [
    {
     "name": "stdout",
     "output_type": "stream",
     "text": [
      "+------+----------+\n",
      "|    id|prediction|\n",
      "+------+----------+\n",
      "|159256|       0.0|\n",
      "|159257|       0.0|\n",
      "|159258|       1.0|\n",
      "|159259|       0.0|\n",
      "|159260|       1.0|\n",
      "|159261|       1.0|\n",
      "|159262|       0.0|\n",
      "|159263|       0.0|\n",
      "|159264|       0.0|\n",
      "|159265|       0.0|\n",
      "|159266|       0.0|\n",
      "|159267|       0.0|\n",
      "|159268|       0.0|\n",
      "|159269|       0.0|\n",
      "|159270|       0.0|\n",
      "|159271|       1.0|\n",
      "|159272|       1.0|\n",
      "|159273|       1.0|\n",
      "|159274|       0.0|\n",
      "|159275|       0.0|\n",
      "+------+----------+\n",
      "only showing top 20 rows\n",
      "\n"
     ]
    }
   ],
   "source": [
    "# Make predictions\n",
    "predictions = lr_model.transform(test_df_transformed)\n",
    "\n",
    "# Show predictions\n",
    "predictions.select(\"id\", \"prediction\").show()"
   ]
  },
  {
   "cell_type": "markdown",
   "metadata": {},
   "source": [
    "Create Submission File"
   ]
  },
  {
   "cell_type": "code",
   "execution_count": 469,
   "metadata": {},
   "outputs": [],
   "source": [
    "import pandas as pd\n",
    "\n",
    "# Assuming 'df' is your Spark DataFrame\n",
    "# Convert the Spark DataFrame to a Pandas DataFrame\n",
    "pandas_df = predictions.select(\"id\", \"prediction\").toPandas()\n",
    "\n",
    "# Define the local path where you want to save the CSV\n",
    "output_csv_path = \"../data/playground-series-s3e24/submission.csv\"\n",
    "\n",
    "# Save the Pandas DataFrame as a CSV file\n",
    "pandas_df.to_csv(output_csv_path, index=False)"
   ]
  }
 ],
 "metadata": {
  "kernelspec": {
   "display_name": "Kaggle",
   "language": "python",
   "name": "python3"
  },
  "language_info": {
   "codemirror_mode": {
    "name": "ipython",
    "version": 3
   },
   "file_extension": ".py",
   "mimetype": "text/x-python",
   "name": "python",
   "nbconvert_exporter": "python",
   "pygments_lexer": "ipython3",
   "version": "3.12.0"
  }
 },
 "nbformat": 4,
 "nbformat_minor": 2
}
